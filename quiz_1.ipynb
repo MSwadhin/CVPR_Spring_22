{
 "cells": [
  {
   "cell_type": "code",
   "execution_count": 1,
   "id": "63fe83f9",
   "metadata": {},
   "outputs": [
    {
     "name": "stdout",
     "output_type": "stream",
     "text": [
      "Sorted Array in Ascending Order:\n",
      "[-39, -9, -2, 0, 0, 1, 11, 39, 45, 64, 97, 121]\n"
     ]
    }
   ],
   "source": [
    "def bubbleSort(array):\n",
    "  for i in range(len(array)):\n",
    "    for j in range(0, len(array) - i - 1):\n",
    "      if array[j] > array[j + 1]:\n",
    "        temp = array[j]\n",
    "        array[j] = array[j+1]\n",
    "        array[j+1] = temp\n",
    "\n",
    "data = [121,1,0,-39,39,64,-2, 45, 0, 11, -9,97]\n",
    "bubbleSort(data)\n",
    "print('Sorted Array in Ascending Order:')\n",
    "print(data)"
   ]
  },
  {
   "cell_type": "code",
   "execution_count": 2,
   "id": "c3bcc830",
   "metadata": {},
   "outputs": [
    {
     "name": "stdout",
     "output_type": "stream",
     "text": [
      "Unsorted Array\n",
      "[121, 1, 0, -39, 39, 64, -2, 45, 0, 11, -9, 97]\n",
      "Sorted Array in Ascending Order:\n",
      "[-39, -9, -2, 0, 0, 1, 11, 39, 45, 64, 97, 121]\n"
     ]
    }
   ],
   "source": [
    "def partition(array, low, high):\n",
    "  pivot = array[high]\n",
    "  i = low - 1\n",
    "  for j in range(low, high):\n",
    "    if array[j] <= pivot:\n",
    "      i = i + 1\n",
    "      (array[i], array[j]) = (array[j], array[i])\n",
    "  (array[i + 1], array[high]) = (array[high], array[i + 1])\n",
    "  return i + 1\n",
    "\n",
    "\n",
    "def quickSort(array, low, high):\n",
    "  if low < high:\n",
    "    pi = partition(array, low, high)\n",
    "    quickSort(array, low, pi - 1)\n",
    "    quickSort(array, pi + 1, high)\n",
    "\n",
    "\n",
    "data = [121,1,0,-39,39,64,-2, 45, 0, 11, -9,97]\n",
    "print(\"Unsorted Array\")\n",
    "print(data)\n",
    "size = len(data)\n",
    "quickSort(data, 0, size - 1)\n",
    "print('Sorted Array in Ascending Order:')\n",
    "print(data)"
   ]
  },
  {
   "cell_type": "code",
   "execution_count": null,
   "id": "69ee114d",
   "metadata": {},
   "outputs": [],
   "source": []
  }
 ],
 "metadata": {
  "kernelspec": {
   "display_name": "Python [conda env:cvpr] *",
   "language": "python",
   "name": "conda-env-cvpr-py"
  },
  "language_info": {
   "codemirror_mode": {
    "name": "ipython",
    "version": 3
   },
   "file_extension": ".py",
   "mimetype": "text/x-python",
   "name": "python",
   "nbconvert_exporter": "python",
   "pygments_lexer": "ipython3",
   "version": "3.8.12"
  }
 },
 "nbformat": 4,
 "nbformat_minor": 5
}
